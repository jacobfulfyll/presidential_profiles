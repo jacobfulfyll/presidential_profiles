{
 "cells": [
  {
   "cell_type": "code",
   "execution_count": 1,
   "metadata": {},
   "outputs": [
    {
     "name": "stderr",
     "output_type": "stream",
     "text": [
      "WARNING: Logging before flag parsing goes to stderr.\n",
      "W0402 11:51:31.682947 4325553600 __init__.py:56] Some hub symbols are not available because TensorFlow version is less than 1.14\n"
     ]
    },
    {
     "name": "stdout",
     "output_type": "stream",
     "text": [
      "Requirement already satisfied: en_core_web_md==2.1.0 from https://github.com/explosion/spacy-models/releases/download/en_core_web_md-2.1.0/en_core_web_md-2.1.0.tar.gz#egg=en_core_web_md==2.1.0 in /Users/owner/anaconda3/lib/python3.6/site-packages (2.1.0)\n",
      "\u001b[38;5;2m✔ Download and installation successful\u001b[0m\n",
      "You can now load the model via spacy.load('en_core_web_md')\n"
     ]
    }
   ],
   "source": [
    "import os\n",
    "import numpy as np\n",
    "import pandas as pd\n",
    "import tensorflow as tf\n",
    "import tensorflow_hub as hub\n",
    "from sklearn import preprocessing\n",
    "import codecs\n",
    "import re\n",
    "\n",
    "!python3 -m spacy download en_core_web_md #you will need to install this on first load\n",
    "import spacy\n",
    "from spacy.lang.en import English\n",
    "from spacy import displacy\n",
    "nlp = spacy.load('en_core_web_md')\n",
    "from IPython.display import HTML\n",
    "import logging\n",
    "\n",
    "os.environ['KMP_DUPLICATE_LIB_OK']='True'"
   ]
  },
  {
   "cell_type": "code",
   "execution_count": 2,
   "metadata": {},
   "outputs": [
    {
     "name": "stdout",
     "output_type": "stream",
     "text": [
      "    Unnamed: 0                    Name         Inaugural Address  \\\n",
      "0            4       George Washington   First Inaugural Address   \n",
      "1            5       George Washington  Second Inaugural Address   \n",
      "2            6              John Adams         Inaugural Address   \n",
      "3            7        Thomas Jefferson   First Inaugural Address   \n",
      "4            8        Thomas Jefferson  Second Inaugural Address   \n",
      "5            9           James Madison   First Inaugural Address   \n",
      "6           10           James Madison  Second Inaugural Address   \n",
      "7           11            James Monroe   First Inaugural Address   \n",
      "8           12            James Monroe  Second Inaugural Address   \n",
      "9           13       John Quincy Adams         Inaugural Address   \n",
      "10          14          Andrew Jackson   First Inaugural Address   \n",
      "11          15          Andrew Jackson  Second Inaugural Address   \n",
      "12          16        Martin Van Buren         Inaugural Address   \n",
      "13          17  William Henry Harrison         Inaugural Address   \n",
      "14          18         James Knox Polk         Inaugural Address   \n",
      "15          19          Zachary Taylor         Inaugural Address   \n",
      "16          20         Franklin Pierce         Inaugural Address   \n",
      "17          21          James Buchanan         Inaugural Address   \n",
      "18          22         Abraham Lincoln   First Inaugural Address   \n",
      "19          23         Abraham Lincoln  Second Inaugural Address   \n",
      "20          24        Ulysses S. Grant   First Inaugural Address   \n",
      "21          25        Ulysses S. Grant  Second Inaugural Address   \n",
      "22          26     Rutherford B. Hayes         Inaugural Address   \n",
      "23          27       James A. Garfield         Inaugural Address   \n",
      "24          28        Grover Cleveland   First Inaugural Address   \n",
      "25          29       Benjamin Harrison         Inaugural Address   \n",
      "26          30        Grover Cleveland  Second Inaugural Address   \n",
      "27          31        William McKinley   First Inaugural Address   \n",
      "28          32        William McKinley  Second Inaugural Address   \n",
      "29          33      Theodore Roosevelt         Inaugural Address   \n",
      "30          34     William Howard Taft         Inaugural Address   \n",
      "31          35          Woodrow Wilson   First Inaugural Address   \n",
      "32          36          Woodrow Wilson  Second Inaugural Address   \n",
      "33          37       Warren G. Harding         Inaugural Address   \n",
      "34          38         Calvin Coolidge         Inaugural Address   \n",
      "35          39          Herbert Hoover         Inaugural Address   \n",
      "36          40   Franklin D. Roosevelt   First Inaugural Address   \n",
      "37          41   Franklin D. Roosevelt  Second Inaugural Address   \n",
      "38          42   Franklin D. Roosevelt   Third Inaugural Address   \n",
      "39          43   Franklin D. Roosevelt  Fourth Inaugural Address   \n",
      "40          44         Harry S. Truman         Inaugural Address   \n",
      "41          45    Dwight D. Eisenhower   First Inaugural Address   \n",
      "42          46    Dwight D. Eisenhower  Second Inaugural Address   \n",
      "43          47         John F. Kennedy         Inaugural Address   \n",
      "44          48   Lyndon Baines Johnson         Inaugural Address   \n",
      "45          49   Richard Milhous Nixon   First Inaugural Address   \n",
      "46          50   Richard Milhous Nixon  Second Inaugural Address   \n",
      "47          51            Jimmy Carter         Inaugural Address   \n",
      "48          52           Ronald Reagan   First Inaugural Address   \n",
      "49          53           Ronald Reagan  Second Inaugural Address   \n",
      "50          54             George Bush         Inaugural Address   \n",
      "51          55            Bill Clinton   First Inaugural Address   \n",
      "52          56            Bill Clinton  Second Inaugural Address   \n",
      "53          57          George W. Bush   First Inaugural Address   \n",
      "54          58          George W. Bush  Second Inaugural Address   \n",
      "55          59            Barack Obama   First Inaugural Address   \n",
      "56          60            Barack Obama  Second Inaugural Address   \n",
      "57          61         Donald J. Trump         Inaugural Address   \n",
      "\n",
      "                           Date  \\\n",
      "0      Thursday, April 30, 1789   \n",
      "1         Monday, March 4, 1793   \n",
      "2       Saturday, March 4, 1797   \n",
      "3      Wednesday, March 4, 1801   \n",
      "4         Monday, March 4, 1805   \n",
      "5       Saturday, March 4, 1809   \n",
      "6       Thursday, March 4, 1813   \n",
      "7        Tuesday, March 4, 1817   \n",
      "8         Monday, March 5, 1821   \n",
      "9         Friday, March 4, 1825   \n",
      "10     Wednesday, March 4, 1829   \n",
      "11        Monday, March 4, 1833   \n",
      "12        Monday, March 4, 1837   \n",
      "13      Thursday, March 4, 1841   \n",
      "14       Tuesday, March 4, 1845   \n",
      "15        Monday, March 5, 1849   \n",
      "16        Friday, March 4, 1853   \n",
      "17     Wednesday, March 4, 1857   \n",
      "18        Monday, March 4, 1861   \n",
      "19      Saturday, March 4, 1865   \n",
      "20      Thursday, March 4, 1869   \n",
      "21       Tuesday, March 4, 1873   \n",
      "22        Monday, March 5, 1877   \n",
      "23        Friday, March 4, 1881   \n",
      "24     Wednesday, March 4, 1885   \n",
      "25        Monday, March 4, 1889   \n",
      "26      Saturday, March 4, 1893   \n",
      "27      Thursday, March 4, 1897   \n",
      "28        Monday, March 4, 1901   \n",
      "29      Saturday, March 4, 1905   \n",
      "30      Thursday, March 4, 1909   \n",
      "31       Tuesday, March 4, 1913   \n",
      "32        Monday, March 5, 1917   \n",
      "33        Friday, March 4, 1921   \n",
      "34     Wednesday, March 4, 1925   \n",
      "35        Monday, March 4, 1929   \n",
      "36      Saturday, March 4, 1933   \n",
      "37  Wednesday, January 20, 1937   \n",
      "38     Monday, January 20, 1941   \n",
      "39   Saturday, January 20, 1945   \n",
      "40   Thursday, January 20, 1949   \n",
      "41    Tuesday, January 20, 1953   \n",
      "42     Monday, January 21, 1957   \n",
      "43     Friday, January 20, 1961   \n",
      "44  Wednesday, January 20, 1965   \n",
      "45     Monday, January 20, 1969   \n",
      "46   Saturday, January 20, 1973   \n",
      "47   Thursday, January 20, 1977   \n",
      "48    Tuesday, January 20, 1981   \n",
      "49     Monday, January 21, 1985   \n",
      "50     Friday, January 20, 1989   \n",
      "51  Wednesday, January 21, 1993   \n",
      "52             January 20, 1997   \n",
      "53   Saturday, January 20, 2001   \n",
      "54   Thursday, January 20, 2005   \n",
      "55    Tuesday, January 20, 2009   \n",
      "56     Monday, January 21, 2013   \n",
      "57     Friday, January 20, 2017   \n",
      "\n",
      "                                                 text  \n",
      "0              Fellow-Citizens of the Senate and o...  \n",
      "1               Fellow Citizens:  I AM again calle...  \n",
      "2               WHEN it was first perceived, in ea...  \n",
      "3               Friends and Fellow-Citizens:  CALL...  \n",
      "4               PROCEEDING, fellow-citizens, to th...  \n",
      "5               UNWILLING to depart from examples ...  \n",
      "6               ABOUT to add the solemnity of an o...  \n",
      "7               I SHOULD be destitute of feeling i...  \n",
      "8               Fellow-Citizens:  I SHALL not atte...  \n",
      "9               IN compliance with an usage coeval...  \n",
      "10              Fellow-Citizens:  ABOUT to underta...  \n",
      "11              Fellow-Citizens:  THE will of the ...  \n",
      "12              Fellow-Citizens: The practice of a...  \n",
      "13              CALLED from a retirement which I h...  \n",
      "14              Fellow-Citizens:  WITHOUT solicita...  \n",
      "15              ELECTED by the American people to ...  \n",
      "16              My Countrymen:  IT a relief to fee...  \n",
      "17              Fellow-Citizens:  I APPEAR before ...  \n",
      "18              Fellow-Citizens of the United Stat...  \n",
      "19              Fellow-Countrymen:    AT this seco...  \n",
      "20              Citizens of the United States:  YO...  \n",
      "21              Fellow-Citizens:  UNDER Providence...  \n",
      "22              Fellow-Citizens:  WE have assemble...  \n",
      "23              Fellow-Citizens:  WE stand to-day ...  \n",
      "24              Fellow-Citizens:  IN the presence ...  \n",
      "25              Fellow-Citizens:  THERE is no cons...  \n",
      "26              My Fellow-Citizens:  IN obedience ...  \n",
      "27              Fellow-Citizens:  IN obedience to ...  \n",
      "28              My Fellow-Citizens:  WHEN we assem...  \n",
      "29              MY fellow-citizens, no people on e...  \n",
      "30              My Fellow-Citizens:  ANYONE who ha...  \n",
      "31              THERE has been a change of governm...  \n",
      "32              My Fellow Citizens:  THE four year...  \n",
      "33              My Countrymen:  WHEN one surveys t...  \n",
      "34              My Countrymen:  NO one can contemp...  \n",
      "35              My Countrymen:  THIS occasion is n...  \n",
      "36              I AM certain that my fellow Americ...  \n",
      "37              WHEN four years ago we met to inau...  \n",
      "38              ON each national day of inaugurati...  \n",
      "39              MR. Chief Justice, Mr. Vice Presid...  \n",
      "40              Mr. Vice President, Mr. Chief Just...  \n",
      "41              MY friends, before I begin the exp...  \n",
      "42              THE PRICE OF PEACE Mr. Chairman, M...  \n",
      "43              Vice President Johnson, Mr. Speake...  \n",
      "44              My fellow countrymen, on this occa...  \n",
      "45              Senator Dirksen, Mr. Chief Justice...  \n",
      "46              Mr. Vice President, Mr. Speaker, M...  \n",
      "47              FOR myself and for our Nation, I w...  \n",
      "48              Senator Hatfield, Mr. Chief Justic...  \n",
      "49              Senator Mathias, Chief Justice Bur...  \n",
      "50              Mr. Chief Justice, Mr. President, ...  \n",
      "51              My fellow citizens:Today we celebr...  \n",
      "52              My fellow citizens:At this last pr...  \n",
      "53              President Clinton, distinguished g...  \n",
      "54              Vice President Cheney, Mr. Chief J...  \n",
      "55              My fellow citizens:    I stand her...  \n",
      "56              Vice President Biden, Mr. Chief Ju...  \n",
      "57             Chief Justice Roberts, President Ca...  \n"
     ]
    }
   ],
   "source": [
    "with codecs.open('inaug_speeches.csv', 'r', encoding='utf-8', errors='ignore') as fdata:\n",
    "    df = pd.read_csv(fdata)\n",
    "print(df)"
   ]
  },
  {
   "cell_type": "code",
   "execution_count": 3,
   "metadata": {},
   "outputs": [],
   "source": [
    "url = \"https://tfhub.dev/google/elmo/2\"\n",
    "embed = hub.Module(url)"
   ]
  },
  {
   "cell_type": "code",
   "execution_count": 4,
   "metadata": {},
   "outputs": [
    {
     "data": {
      "text/plain": [
       "23"
      ]
     },
     "execution_count": 4,
     "metadata": {},
     "output_type": "execute_result"
    }
   ],
   "source": [
    "text = df.iloc[0].text\n",
    "\n",
    "text = text.lower().replace('\\n', ' ').replace('\\t', ' ').replace('\\xa0',' ')\n",
    "text = ' '.join(text.split())\n",
    "doc = nlp(text)\n",
    "\n",
    "sentences = []\n",
    "for i in doc.sents:\n",
    "  if len(i)>1:\n",
    "    sentences.append(i.string.strip())\n",
    "    \n",
    "len(sentences)"
   ]
  },
  {
   "cell_type": "code",
   "execution_count": 5,
   "metadata": {},
   "outputs": [
    {
     "data": {
      "text/plain": [
       "['fellow-citizens of the senate and of the house of representatives: among the vicissitudes incident to life',\n",
       " 'no event could have filled me with greater anxieties than that of which the notification was transmitted by your order, and received on the th day of the present month.',\n",
       " 'on the one hand, i was summoned by my country, whose voice i can never hear but with veneration and love, from a retreat which i had chosen with the fondest predilection, and, in my flattering hopes, with an immutable decision, as the asylum of my declining years<u+0097>a retreat which was rendered every day more necessary as well as more dear to me by the addition of habit to inclination, and of frequent interruptions in my health to the gradual waste committed on it by time.',\n",
       " 'on the other hand, the magnitude and difficulty of the trust to which the voice of my country called me, being sufficient to awaken in the wisest and most experienced of her citizens a distrustful scrutiny into his qualifications, could not but overwhelm with despondence one who (inheriting inferior endowments from nature and unpracticed in the duties of civil administration) ought to be peculiarly conscious of his own deficiencies.',\n",
       " 'in this conflict of emotions all i dare aver is that it has been my faithful study to collect my duty from a just appreciation of every circumstance by which it might be affected.',\n",
       " 'all i dare hope is that if, in executing this task, i have been too much swayed by a grateful remembrance of former instances, or by an affectionate sensibility to this transcendent proof of the confidence of my fellow-citizens, and have thence too little consulted my incapacity as well as disinclination for the weighty and untried cares before me, my error will be palliated by the motives which mislead me, and its consequences be judged by my country with some share of the partiality in which they originated.',\n",
       " 'such being the impressions under which i have, in obedience to the public summons, repaired to the present station, it would be peculiarly improper to omit in this first official act my fervent supplications to that almighty being who rules over the universe, who presides in the councils of nations, and whose providential aids can supply every human defect, that his benediction may consecrate to the liberties and happiness of the people of the united states a government instituted by themselves for these essential purposes, and may enable every instrument employed in its administration to execute with success the functions allotted to his charge. in tendering this homage to the great author of every public and private good, i assure myself that it expresses your sentiments not less than my own, nor those of my fellow-citizens at large less than either.',\n",
       " 'no people can be bound to acknowledge and adore the invisible hand which conducts the affairs of men more than those of the united states.',\n",
       " 'every step by which they have advanced to the character of an independent nation seems to have been distinguished by some token of providential agency; and in the important revolution just accomplished in the system of their united government the tranquil deliberations and voluntary consent of so many distinct communities from which the event has resulted can not be compared with the means by which most governments have been established without some return of pious gratitude, along with an humble anticipation of the future blessings which the past seem to presage.',\n",
       " 'these reflections, arising out of the present crisis, have forced themselves too strongly on my mind to be suppressed.']"
      ]
     },
     "execution_count": 5,
     "metadata": {},
     "output_type": "execute_result"
    }
   ],
   "source": [
    "sentences[0:10]"
   ]
  },
  {
   "cell_type": "code",
   "execution_count": 6,
   "metadata": {},
   "outputs": [
    {
     "name": "stdout",
     "output_type": "stream",
     "text": [
      "INFO:tensorflow:Saver not created because there are no variables in the graph to restore\n"
     ]
    },
    {
     "name": "stderr",
     "output_type": "stream",
     "text": [
      "I0402 11:52:39.188954 4325553600 tf_logging.py:115] Saver not created because there are no variables in the graph to restore\n"
     ]
    }
   ],
   "source": [
    "embeddings = embed(\n",
    "    sentences,\n",
    "    signature=\"default\",\n",
    "    as_dict=True)[\"default\"]"
   ]
  },
  {
   "cell_type": "code",
   "execution_count": 7,
   "metadata": {},
   "outputs": [
    {
     "name": "stdout",
     "output_type": "stream",
     "text": [
      "CPU times: user 1min 37s, sys: 6.21 s, total: 1min 43s\n",
      "Wall time: 47 s\n"
     ]
    }
   ],
   "source": [
    "%%time\n",
    "with tf.Session() as sess:\n",
    "  sess.run(tf.global_variables_initializer())\n",
    "  sess.run(tf.tables_initializer())\n",
    "  x = sess.run(embeddings)"
   ]
  },
  {
   "cell_type": "code",
   "execution_count": 8,
   "metadata": {},
   "outputs": [],
   "source": [
    "from sklearn.decomposition import PCA\n",
    "\n",
    "pca = PCA(n_components=5)\n",
    "y = pca.fit_transform(x)\n",
    "\n",
    "from sklearn.manifold import TSNE\n",
    "\n",
    "y = TSNE(n_components=2).fit_transform(y)"
   ]
  },
  {
   "cell_type": "code",
   "execution_count": 9,
   "metadata": {},
   "outputs": [
    {
     "data": {
      "text/html": [
       "<script type=\"text/javascript\">window.PlotlyConfig = {MathJaxConfig: 'local'};</script><script type=\"text/javascript\">if (window.MathJax) {MathJax.Hub.Config({SVG: {font: \"STIX-Web\"}});}</script><script>requirejs.config({paths: { 'plotly': ['https://cdn.plot.ly/plotly-latest.min']},});if(!window._Plotly) {require(['plotly'],function(plotly) {window._Plotly=plotly;});}</script>"
      ],
      "text/vnd.plotly.v1+html": [
       "<script type=\"text/javascript\">window.PlotlyConfig = {MathJaxConfig: 'local'};</script><script type=\"text/javascript\">if (window.MathJax) {MathJax.Hub.Config({SVG: {font: \"STIX-Web\"}});}</script><script>requirejs.config({paths: { 'plotly': ['https://cdn.plot.ly/plotly-latest.min']},});if(!window._Plotly) {require(['plotly'],function(plotly) {window._Plotly=plotly;});}</script>"
      ]
     },
     "metadata": {},
     "output_type": "display_data"
    },
    {
     "ename": "ModuleNotFoundError",
     "evalue": "No module named 'google.colab'",
     "output_type": "error",
     "traceback": [
      "\u001b[0;31m---------------------------------------------------------------------------\u001b[0m",
      "\u001b[0;31mModuleNotFoundError\u001b[0m                       Traceback (most recent call last)",
      "\u001b[0;32m<ipython-input-9-95ea66544193>\u001b[0m in \u001b[0;36m<module>\u001b[0;34m\u001b[0m\n\u001b[1;32m     29\u001b[0m \u001b[0mfile\u001b[0m \u001b[0;34m=\u001b[0m \u001b[0mplot\u001b[0m\u001b[0;34m(\u001b[0m\u001b[0mfig\u001b[0m\u001b[0;34m,\u001b[0m \u001b[0mfilename\u001b[0m\u001b[0;34m=\u001b[0m\u001b[0;34m'Sentence encode.html'\u001b[0m\u001b[0;34m)\u001b[0m\u001b[0;34m\u001b[0m\u001b[0;34m\u001b[0m\u001b[0m\n\u001b[1;32m     30\u001b[0m \u001b[0;34m\u001b[0m\u001b[0m\n\u001b[0;32m---> 31\u001b[0;31m \u001b[0;32mfrom\u001b[0m \u001b[0mgoogle\u001b[0m\u001b[0;34m.\u001b[0m\u001b[0mcolab\u001b[0m \u001b[0;32mimport\u001b[0m \u001b[0mfiles\u001b[0m\u001b[0;34m\u001b[0m\u001b[0;34m\u001b[0m\u001b[0m\n\u001b[0m\u001b[1;32m     32\u001b[0m \u001b[0mfiles\u001b[0m\u001b[0;34m.\u001b[0m\u001b[0mdownload\u001b[0m\u001b[0;34m(\u001b[0m\u001b[0;34m'Sentence encode.html'\u001b[0m\u001b[0;34m)\u001b[0m\u001b[0;34m\u001b[0m\u001b[0;34m\u001b[0m\u001b[0m\n",
      "\u001b[0;31mModuleNotFoundError\u001b[0m: No module named 'google.colab'"
     ]
    }
   ],
   "source": [
    "import plotly.plotly as py\n",
    "import plotly.graph_objs as go\n",
    "from plotly.offline import download_plotlyjs, init_notebook_mode, plot, iplot\n",
    "\n",
    "init_notebook_mode(connected=True)\n",
    "\n",
    "\n",
    "data = [\n",
    "    go.Scatter(\n",
    "        x=[i[0] for i in y],\n",
    "        y=[i[1] for i in y],\n",
    "        mode='markers',\n",
    "        text=[i for i in sentences],\n",
    "    marker=dict(\n",
    "        size=16,\n",
    "        color = [len(i) for i in sentences], #set color equal to a variable\n",
    "        opacity= 0.8,\n",
    "        colorscale='Viridis',\n",
    "        showscale=False\n",
    "    )\n",
    "    )\n",
    "]\n",
    "layout = go.Layout()\n",
    "layout = dict(\n",
    "              yaxis = dict(zeroline = False),\n",
    "              xaxis = dict(zeroline = False)\n",
    "             )\n",
    "fig = go.Figure(data=data, layout=layout)\n",
    "file = plot(fig, filename='Sentence encode.html')\n",
    "\n",
    "from google.colab import files\n",
    "files.download('Sentence encode.html') "
   ]
  },
  {
   "cell_type": "code",
   "execution_count": null,
   "metadata": {},
   "outputs": [],
   "source": []
  }
 ],
 "metadata": {
  "kernelspec": {
   "display_name": "Python 3",
   "language": "python",
   "name": "python3"
  },
  "language_info": {
   "codemirror_mode": {
    "name": "ipython",
    "version": 3
   },
   "file_extension": ".py",
   "mimetype": "text/x-python",
   "name": "python",
   "nbconvert_exporter": "python",
   "pygments_lexer": "ipython3",
   "version": "3.6.8"
  }
 },
 "nbformat": 4,
 "nbformat_minor": 2
}
